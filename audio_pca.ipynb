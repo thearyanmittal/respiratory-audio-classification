{
 "cells": [
  {
   "cell_type": "code",
   "execution_count": 1,
   "metadata": {},
   "outputs": [],
   "source": [
    "import glob\n",
    "from PIL import Image\n",
    "import numpy as np\n",
    "import matplotlib.pyplot as plt\n",
    "from sklearn.decomposition import PCA"
   ]
  },
  {
   "cell_type": "code",
   "execution_count": 6,
   "metadata": {},
   "outputs": [
    {
     "name": "stdout",
     "output_type": "stream",
     "text": [
      "(0,)\n"
     ]
    }
   ],
   "source": [
    "# Define the folder path\n",
    "folder_path = 'data/normalized_spectrograms/'\n",
    "\n",
    "# Get the file paths of all the image files in the folder\n",
    "image_files = glob.glob(folder_path + '*.jpg')\n",
    "\n",
    "# Create an empty list to store the image arrays\n",
    "image_array = []\n",
    "\n",
    "# Iterate over the image files\n",
    "for file_path in image_files:\n",
    "    # Open the image file\n",
    "    image = Image.open(file_path)\n",
    "    \n",
    "    # Convert the image to an array\n",
    "    image_array.append(np.array(image))\n",
    "\n",
    "# Convert the list of image arrays to a single numpy array\n",
    "image_array = np.array(image_array)\n",
    "print(image_array.shape)"
   ]
  },
  {
   "cell_type": "code",
   "execution_count": 7,
   "metadata": {},
   "outputs": [
    {
     "name": "stdout",
     "output_type": "stream",
     "text": [
      "(0,)\n"
     ]
    },
    {
     "ename": "ValueError",
     "evalue": "not enough values to unpack (expected 4, got 1)",
     "output_type": "error",
     "traceback": [
      "\u001b[0;31m---------------------------------------------------------------------------\u001b[0m",
      "\u001b[0;31mValueError\u001b[0m                                Traceback (most recent call last)",
      "Cell \u001b[0;32mIn[7], line 6\u001b[0m\n\u001b[1;32m      4\u001b[0m \u001b[38;5;66;03m# Perform PCA\u001b[39;00m\n\u001b[1;32m      5\u001b[0m pca \u001b[38;5;241m=\u001b[39m PCA()\n\u001b[0;32m----> 6\u001b[0m n_samples, height, width, channels \u001b[38;5;241m=\u001b[39m test_sample\u001b[38;5;241m.\u001b[39mshape\n\u001b[1;32m      7\u001b[0m test_sample_reshaped \u001b[38;5;241m=\u001b[39m test_sample\u001b[38;5;241m.\u001b[39mreshape(n_samples, height \u001b[38;5;241m*\u001b[39m width \u001b[38;5;241m*\u001b[39m channels)\n\u001b[1;32m      9\u001b[0m pca\u001b[38;5;241m.\u001b[39mfit(test_sample_reshaped)\n",
      "\u001b[0;31mValueError\u001b[0m: not enough values to unpack (expected 4, got 1)"
     ]
    }
   ],
   "source": [
    "test_sample = image_array[0:1000]\n",
    "print(test_sample.shape)\n",
    "\n",
    "# Perform PCA\n",
    "pca = PCA()\n",
    "n_samples, height, width, channels = test_sample.shape\n",
    "test_sample_reshaped = test_sample.reshape(n_samples, height * width * channels)\n",
    "\n",
    "pca.fit(test_sample_reshaped)\n",
    "\n",
    "modVar = pca.explained_variance_ratio_\n",
    "modVar = np.insert(modVar, 0, 0)\n",
    "# Plot the explained variance ratio\n",
    "plt.figure(figsize=(10, 6))\n",
    "plt.plot(np.cumsum(modVar))\n",
    "plt.xlabel('Number of Components')\n",
    "plt.ylabel('Cumulative Explained Variance')\n",
    "plt.title('Explained Variance Ratio')\n",
    "plt.grid()\n",
    "plt.show()\n",
    "\n",
    "components_above_99 = np.where(np.cumsum(pca.explained_variance_ratio_) > 0.99)[0] + 1\n",
    "print(f'Number of components required to explain 99% of the variance: {components_above_99[0]}')\n",
    "\n",
    "transformed_data = pca.transform(test_sample_reshaped)\n",
    "\n",
    "# # Inverse transform to reconstruct images\n",
    "# reconstructed_data = pca.inverse_transform(transformed_data)\n",
    "# reconstructed_images = reconstructed_data.reshape(n_samples, height, width, channels)\n",
    "\n",
    "# # Visualize original and reconstructed images\n",
    "# plt.figure(figsize=(100, 50))\n",
    "# for i in range(5):\n",
    "#     # Original image\n",
    "#     plt.subplot(2, n_samples, i + 1)\n",
    "#     plt.imshow(test_sample[i])\n",
    "#     plt.title('Original')\n",
    "#     plt.axis('off')\n",
    "    \n",
    "#     # Reconstructed image\n",
    "#     plt.subplot(2, n_samples, n_samples + i + 1)\n",
    "#     plt.imshow(reconstructed_images[i].astype(np.uint8))\n",
    "#     plt.title('Reconstructed')\n",
    "#     plt.axis('off')\n",
    "\n",
    "# plt.tight_layout()\n",
    "# plt.show()"
   ]
  },
  {
   "cell_type": "code",
   "execution_count": 8,
   "metadata": {},
   "outputs": [
    {
     "ename": "NameError",
     "evalue": "name 'test_sample_reshaped' is not defined",
     "output_type": "error",
     "traceback": [
      "\u001b[0;31m---------------------------------------------------------------------------\u001b[0m",
      "\u001b[0;31mNameError\u001b[0m                                 Traceback (most recent call last)",
      "Cell \u001b[0;32mIn[8], line 1\u001b[0m\n\u001b[0;32m----> 1\u001b[0m transformed_data \u001b[38;5;241m=\u001b[39m pca\u001b[38;5;241m.\u001b[39mtransform(\u001b[43mtest_sample_reshaped\u001b[49m)\n\u001b[1;32m      3\u001b[0m \u001b[38;5;66;03m# Inverse transform to reconstruct images\u001b[39;00m\n\u001b[1;32m      4\u001b[0m reconstructed_data \u001b[38;5;241m=\u001b[39m pca\u001b[38;5;241m.\u001b[39minverse_transform(transformed_data)\n",
      "\u001b[0;31mNameError\u001b[0m: name 'test_sample_reshaped' is not defined"
     ]
    }
   ],
   "source": [
    "transformed_data = pca.transform(test_sample_reshaped)\n",
    "\n",
    "# Inverse transform to reconstruct images\n",
    "reconstructed_data = pca.inverse_transform(transformed_data)\n",
    "reconstructed_images = reconstructed_data.reshape(n_samples, height, width, channels)\n",
    "\n",
    "# Visualize original and reconstructed images\n",
    "plt.figure(figsize=(100, 50))\n",
    "for i in range(5):\n",
    "    # Original image\n",
    "    plt.subplot(2, n_samples, i + 1)\n",
    "    plt.imshow(test_sample[i])\n",
    "    plt.title('Original')\n",
    "    plt.axis('off')\n",
    "    \n",
    "    # Reconstructed image\n",
    "    plt.subplot(2, n_samples, n_samples + i + 1)\n",
    "    plt.imshow(reconstructed_images[i].astype(np.uint8))\n",
    "    plt.title('Reconstructed')\n",
    "    plt.axis('off')\n",
    "\n",
    "plt.tight_layout()\n",
    "plt.show()"
   ]
  }
 ],
 "metadata": {
  "kernelspec": {
   "display_name": "env",
   "language": "python",
   "name": "python3"
  },
  "language_info": {
   "codemirror_mode": {
    "name": "ipython",
    "version": 3
   },
   "file_extension": ".py",
   "mimetype": "text/x-python",
   "name": "python",
   "nbconvert_exporter": "python",
   "pygments_lexer": "ipython3",
   "version": "3.11.7"
  }
 },
 "nbformat": 4,
 "nbformat_minor": 2
}
